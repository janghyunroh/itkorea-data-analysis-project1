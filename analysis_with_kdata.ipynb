{
 "cells": [
  {
   "cell_type": "markdown",
   "metadata": {},
   "source": [
    "## -- 추가 조사 --\n",
    "이 노트북은 1번 가설에 대해 한국 데이터셋을 적용하여 재분석한 결과입니다. \n",
    "\n",
    "연령별 운전자 사고율을 알아보기 위해 전체 면허 소지자에 대한 사고 발생 건수 비율을 계산합니다.\n",
    "\n",
    "면허 소지자가 운전자 전체 표본으로서 유효한지는 논란이 많이 있을 것으로 보이며, 제대로 된 빈도 수 분석을 위해선 \n",
    "\n",
    "연령 별 운전자 보험 가입자 수의 데이터가 필요할 것으로 보입니다. \n",
    "\n",
    "아쉽게도 해당 데이터는 찾을 수 없었습니다.\n"
   ]
  },
  {
   "cell_type": "code",
   "execution_count": 36,
   "metadata": {},
   "outputs": [],
   "source": [
    "import pandas as pd\n",
    "import numpy as np\n",
    "import matplotlib.pyplot as plt\n",
    "import seaborn as sns\n",
    "import statsmodels.api as sm\n",
    "import warnings\n",
    "import platform\n",
    "from sklearn import preprocessing\n",
    "\n",
    "warnings.filterwarnings('ignore')\n",
    "\n",
    "# 운영 체제 감지\n",
    "current_os = platform.system()\n",
    "\n",
    "# 운영 체제별 폰트 설정\n",
    "if current_os == 'Windows':\n",
    "    plt.rcParams['font.family'] = 'Malgun Gothic'\n",
    "elif current_os == 'Darwin':\n",
    "    plt.rcParams['font.family'] = 'Nanum Gothic'\n",
    "else:\n",
    "    plt.rcParams['font.family'] = 'NanumGothic'\n",
    "\n",
    "plt.rcParams['axes.unicode_minus'] = False"
   ]
  },
  {
   "cell_type": "code",
   "execution_count": 50,
   "metadata": {},
   "outputs": [],
   "source": [
    "# 2017년도 연령별 총 운전자 수 데이터 프레임 생성\n",
    "\n",
    "df_number_of_driver_17 = pd.read_csv(r'./kdata/경찰청_운전면허소지자(2017년,연령별)현황_20171231.csv', encoding = 'EUC-KR')\n",
    "df_number_of_driver_17['합계'] = df_number_of_driver_17.loc[:, '1종대형':'원자'].sum(axis=1)\n",
    "\n",
    "# '구분' 칼럼을 정수형으로 변환\n",
    "df_number_of_driver_17['구분'] = pd.to_numeric(df_number_of_driver_17['구분'], errors='coerce')\n",
    "\n",
    "# 10세 단위로 연령대 그룹 생성\n",
    "bins = list(range(10, 100, 10))  # 10세에서 90세까지 10세 단위로 구간 생성\n",
    "labels = [f'{i}대' for i in range(10, 90, 10)]\n",
    "df_number_of_driver_17['연령대'] = pd.cut(df_number_of_driver_17['구분'], bins=bins, labels=labels, right=False)\n",
    "\n",
    "# 연령대 별로 군집화하여 '1종대형'부터 '원자'까지의 합계를 구함\n",
    "age_group_sum17 = df_number_of_driver_17.groupby('연령대').sum(numeric_only=True).loc[:, '1종대형':'원자']\n",
    "\n",
    "# 각 연령대에 대한 합계를 계산하여 '합계' 열에 추가\n",
    "age_group_sum17['합계'] = age_group_sum17.sum(axis=1)\n",
    "\n",
    "# 2020년도도 마찬가지로 생성\n",
    "\n",
    "df_number_of_driver20 = pd.read_csv(r'./kdata/경찰청_운전면허소지자 연령별 현황_20201231.csv', encoding='EUC-KR')\n",
    "df_number_of_driver20['합계'] = df_number_of_driver20.loc[:, '1종대형':'원자'].sum(axis=1)\n",
    "\n",
    "# '구분' 칼럼을 정수형으로 변환\n",
    "df_number_of_driver20['구분'] = pd.to_numeric(df_number_of_driver20['구분'], errors='coerce')\n",
    "\n",
    "# 10세 단위로 연령대 그룹 생성\n",
    "bins = list(range(10, 100, 10))  # 10세에서 90세까지 10세 단위로 구간 생성\n",
    "labels = [f'{i}대' for i in range(10, 90, 10)]\n",
    "df_number_of_driver20['연령대'] = pd.cut(df_number_of_driver20['구분'], bins=bins, labels=labels, right=False)\n",
    "\n",
    "# 연령대 별로 군집화하여 '1종대형'부터 '원자'까지의 합계를 구함\n",
    "age_group_sum20 = df_number_of_driver20.groupby('연령대').sum(numeric_only=True).loc[:, '1종대형':'원자']\n",
    "\n",
    "# 각 연령대에 대한 합계를 계산하여 '합계' 열에 추가\n",
    "age_group_sum20['합계'] = age_group_sum20.sum(axis=1)\n",
    "\n"
   ]
  },
  {
   "cell_type": "code",
   "execution_count": 51,
   "metadata": {},
   "outputs": [],
   "source": [
    "# 2017, 2020년도 운전자 연령대별 사고 횟수 데이터 프레임 생성\n",
    "df_accidents_by_age_17 = pd.read_csv(r'./kdata/도로교통공단_가해운전자 연령층별 월별 교통사고(2017).csv', encoding='EUC-KR')\n",
    "df_accidents_by_age_20 = pd.read_csv(r'./kdata/도로교통공단_가해운전자 연령층별 월별 교통사고(2020).csv', encoding='EUC-KR')\n",
    "\n",
    "# 월별 데이터를 묶어서 연령 별 총 합계 계산\n",
    "df_accidents_by_age_17 = df_accidents_by_age_17.groupby('가해자연령층').sum(numeric_only=True)\n",
    "df_accidents_by_age_20 = df_accidents_by_age_20.groupby('가해자연령층').sum(numeric_only=True)\n"
   ]
  },
  {
   "cell_type": "code",
   "execution_count": 52,
   "metadata": {},
   "outputs": [],
   "source": [
    "# 데이터 프레임 간 연산을 이용해 연령 별 사고율을 계산\n",
    "\n",
    "#전처리 - 인덱스 통일\n",
    "\n",
    "# 1) 연령별 운전자 수 데이터의 60대 이후를 60대 이상으로 통합\n",
    "age_group_sum17.loc['60대 이상'] = age_group_sum17.loc['60대':].sum()\n",
    "age_group_sum17.drop(labels=age_group_sum17.loc['60대':'80대'].index, inplace=True)\n",
    "\n",
    "age_group_sum20.loc['60대 이상'] = age_group_sum20.loc['60대':].sum()\n",
    "age_group_sum20.drop(labels=age_group_sum20.loc['60대':'80대'].index, inplace=True)\n"
   ]
  },
  {
   "cell_type": "code",
   "execution_count": 58,
   "metadata": {},
   "outputs": [
    {
     "data": {
      "text/html": [
       "<div>\n",
       "<style scoped>\n",
       "    .dataframe tbody tr th:only-of-type {\n",
       "        vertical-align: middle;\n",
       "    }\n",
       "\n",
       "    .dataframe tbody tr th {\n",
       "        vertical-align: top;\n",
       "    }\n",
       "\n",
       "    .dataframe thead th {\n",
       "        text-align: right;\n",
       "    }\n",
       "</style>\n",
       "<table border=\"1\" class=\"dataframe\">\n",
       "  <thead>\n",
       "    <tr style=\"text-align: right;\">\n",
       "      <th></th>\n",
       "      <th>합계</th>\n",
       "    </tr>\n",
       "    <tr>\n",
       "      <th>연령대</th>\n",
       "      <th></th>\n",
       "    </tr>\n",
       "  </thead>\n",
       "  <tbody>\n",
       "    <tr>\n",
       "      <th>10대</th>\n",
       "      <td>302824</td>\n",
       "    </tr>\n",
       "    <tr>\n",
       "      <th>20대</th>\n",
       "      <td>4892735</td>\n",
       "    </tr>\n",
       "    <tr>\n",
       "      <th>30대</th>\n",
       "      <td>6696069</td>\n",
       "    </tr>\n",
       "    <tr>\n",
       "      <th>40대</th>\n",
       "      <td>7780319</td>\n",
       "    </tr>\n",
       "    <tr>\n",
       "      <th>50대</th>\n",
       "      <td>6883177</td>\n",
       "    </tr>\n",
       "    <tr>\n",
       "      <th>60대 이상</th>\n",
       "      <td>5102127</td>\n",
       "    </tr>\n",
       "  </tbody>\n",
       "</table>\n",
       "</div>"
      ],
      "text/plain": [
       "             합계\n",
       "연령대            \n",
       "10대      302824\n",
       "20대     4892735\n",
       "30대     6696069\n",
       "40대     7780319\n",
       "50대     6883177\n",
       "60대 이상  5102127"
      ]
     },
     "execution_count": 58,
     "metadata": {},
     "output_type": "execute_result"
    }
   ],
   "source": [
    "df_age_group_sum_17 = age_group_sum17['합계'].to_frame()\n",
    "df_age_group_sum_17\n"
   ]
  },
  {
   "cell_type": "code",
   "execution_count": 57,
   "metadata": {},
   "outputs": [
    {
     "data": {
      "text/html": [
       "<div>\n",
       "<style scoped>\n",
       "    .dataframe tbody tr th:only-of-type {\n",
       "        vertical-align: middle;\n",
       "    }\n",
       "\n",
       "    .dataframe tbody tr th {\n",
       "        vertical-align: top;\n",
       "    }\n",
       "\n",
       "    .dataframe thead th {\n",
       "        text-align: right;\n",
       "    }\n",
       "</style>\n",
       "<table border=\"1\" class=\"dataframe\">\n",
       "  <thead>\n",
       "    <tr style=\"text-align: right;\">\n",
       "      <th></th>\n",
       "      <th>합계</th>\n",
       "    </tr>\n",
       "    <tr>\n",
       "      <th>연령대</th>\n",
       "      <th></th>\n",
       "    </tr>\n",
       "  </thead>\n",
       "  <tbody>\n",
       "    <tr>\n",
       "      <th>10대</th>\n",
       "      <td>285241</td>\n",
       "    </tr>\n",
       "    <tr>\n",
       "      <th>20대</th>\n",
       "      <td>4894403</td>\n",
       "    </tr>\n",
       "    <tr>\n",
       "      <th>30대</th>\n",
       "      <td>6351304</td>\n",
       "    </tr>\n",
       "    <tr>\n",
       "      <th>40대</th>\n",
       "      <td>7617679</td>\n",
       "    </tr>\n",
       "    <tr>\n",
       "      <th>50대</th>\n",
       "      <td>7378841</td>\n",
       "    </tr>\n",
       "    <tr>\n",
       "      <th>60대 이상</th>\n",
       "      <td>6649606</td>\n",
       "    </tr>\n",
       "  </tbody>\n",
       "</table>\n",
       "</div>"
      ],
      "text/plain": [
       "             합계\n",
       "연령대            \n",
       "10대      285241\n",
       "20대     4894403\n",
       "30대     6351304\n",
       "40대     7617679\n",
       "50대     7378841\n",
       "60대 이상  6649606"
      ]
     },
     "execution_count": 57,
     "metadata": {},
     "output_type": "execute_result"
    }
   ],
   "source": [
    "df_age_group_sum_20 = age_group_sum20['합계'].to_frame()\n",
    "df_age_group_sum_20"
   ]
  },
  {
   "cell_type": "code",
   "execution_count": 43,
   "metadata": {},
   "outputs": [
    {
     "name": "stdout",
     "output_type": "stream",
     "text": [
      "          월   사고건수  사망자수   중상자수   경상자수  부상신고자수\n",
      "10대      78   8175   124   2743   7114    1561\n",
      "20대      78  29254   504  10195  32137    3086\n",
      "30대      78  34179   586  11906  36793    3396\n",
      "40대      78  43668   739  16310  45579    3901\n",
      "50대      78  53412  1066  19783  55702    4587\n",
      "60대 이상  156  43088  1165  16552  42648    3786\n",
      "        발생월   사고건수  사망자수   중상자수   경상자수  부상신고자수\n",
      "10대      78   7099   103   2174   6925    1247\n",
      "20대      78  29775   385   8370  33492    3273\n",
      "30대      78  31606   383   8887  34949    3086\n",
      "40대      78  38036   494  10991  41479    3267\n",
      "50대      78  50421   715  14760  55052    3891\n",
      "60대 이상  156  49247  1001  14933  51673    3900\n"
     ]
    }
   ],
   "source": [
    "# 2) 가해자 연령별 사고 횟수 데이터의 61-64세 데이터와 65세 이상 데이터를 통합, 불명 데이터는 삭제\n",
    "df_accidents_by_age_17.drop(index='불명', inplace=True)\n",
    "df_accidents_by_age_17.loc['60대 이상'] = df_accidents_by_age_17.loc['61-64세'] + df_accidents_by_age_17.loc['65세이상']\n",
    "df_accidents_by_age_17.drop(index=['61-64세', '65세이상'], inplace=True)\n",
    "\n",
    "idx = ['10대', '20대', '30대', '40대', '50대', '60대 이상']\n",
    "df_accidents_by_age_17.index = idx\n",
    "\n",
    "print(df_accidents_by_age_17)\n",
    "\n",
    "df_accidents_by_age_20.drop(index='불명', inplace=True)\n",
    "df_accidents_by_age_20.loc['60대 이상'] = df_accidents_by_age_20.loc['61-64세'] + df_accidents_by_age_20.loc['65세이상']\n",
    "df_accidents_by_age_20.drop(index=['61-64세', '65세이상'], inplace=True)\n",
    "\n",
    "df_accidents_by_age_20.index = idx\n",
    "\n",
    "print(df_accidents_by_age_20)"
   ]
  },
  {
   "cell_type": "code",
   "execution_count": 59,
   "metadata": {},
   "outputs": [
    {
     "data": {
      "text/html": [
       "<div>\n",
       "<style scoped>\n",
       "    .dataframe tbody tr th:only-of-type {\n",
       "        vertical-align: middle;\n",
       "    }\n",
       "\n",
       "    .dataframe tbody tr th {\n",
       "        vertical-align: top;\n",
       "    }\n",
       "\n",
       "    .dataframe thead th {\n",
       "        text-align: right;\n",
       "    }\n",
       "</style>\n",
       "<table border=\"1\" class=\"dataframe\">\n",
       "  <thead>\n",
       "    <tr style=\"text-align: right;\">\n",
       "      <th></th>\n",
       "      <th>사고건수</th>\n",
       "    </tr>\n",
       "    <tr>\n",
       "      <th>가해자연령층</th>\n",
       "      <th></th>\n",
       "    </tr>\n",
       "  </thead>\n",
       "  <tbody>\n",
       "    <tr>\n",
       "      <th>20세이하</th>\n",
       "      <td>8175</td>\n",
       "    </tr>\n",
       "    <tr>\n",
       "      <th>21-30세</th>\n",
       "      <td>29254</td>\n",
       "    </tr>\n",
       "    <tr>\n",
       "      <th>31-40세</th>\n",
       "      <td>34179</td>\n",
       "    </tr>\n",
       "    <tr>\n",
       "      <th>41-50세</th>\n",
       "      <td>43668</td>\n",
       "    </tr>\n",
       "    <tr>\n",
       "      <th>51-60세</th>\n",
       "      <td>53412</td>\n",
       "    </tr>\n",
       "    <tr>\n",
       "      <th>61-64세</th>\n",
       "      <td>16375</td>\n",
       "    </tr>\n",
       "    <tr>\n",
       "      <th>65세이상</th>\n",
       "      <td>26713</td>\n",
       "    </tr>\n",
       "    <tr>\n",
       "      <th>불명</th>\n",
       "      <td>4559</td>\n",
       "    </tr>\n",
       "  </tbody>\n",
       "</table>\n",
       "</div>"
      ],
      "text/plain": [
       "         사고건수\n",
       "가해자연령층       \n",
       "20세이하    8175\n",
       "21-30세  29254\n",
       "31-40세  34179\n",
       "41-50세  43668\n",
       "51-60세  53412\n",
       "61-64세  16375\n",
       "65세이상   26713\n",
       "불명       4559"
      ]
     },
     "execution_count": 59,
     "metadata": {},
     "output_type": "execute_result"
    }
   ],
   "source": [
    "df_acc_17_vis = df_accidents_by_age_17['사고건수'].to_frame()\n",
    "df_acc_17_vis"
   ]
  },
  {
   "cell_type": "code",
   "execution_count": 60,
   "metadata": {},
   "outputs": [
    {
     "data": {
      "text/html": [
       "<div>\n",
       "<style scoped>\n",
       "    .dataframe tbody tr th:only-of-type {\n",
       "        vertical-align: middle;\n",
       "    }\n",
       "\n",
       "    .dataframe tbody tr th {\n",
       "        vertical-align: top;\n",
       "    }\n",
       "\n",
       "    .dataframe thead th {\n",
       "        text-align: right;\n",
       "    }\n",
       "</style>\n",
       "<table border=\"1\" class=\"dataframe\">\n",
       "  <thead>\n",
       "    <tr style=\"text-align: right;\">\n",
       "      <th></th>\n",
       "      <th>사고건수</th>\n",
       "    </tr>\n",
       "    <tr>\n",
       "      <th>가해자연령층</th>\n",
       "      <th></th>\n",
       "    </tr>\n",
       "  </thead>\n",
       "  <tbody>\n",
       "    <tr>\n",
       "      <th>20세이하</th>\n",
       "      <td>7099</td>\n",
       "    </tr>\n",
       "    <tr>\n",
       "      <th>21-30세</th>\n",
       "      <td>29775</td>\n",
       "    </tr>\n",
       "    <tr>\n",
       "      <th>31-40세</th>\n",
       "      <td>31606</td>\n",
       "    </tr>\n",
       "    <tr>\n",
       "      <th>41-50세</th>\n",
       "      <td>38036</td>\n",
       "    </tr>\n",
       "    <tr>\n",
       "      <th>51-60세</th>\n",
       "      <td>50421</td>\n",
       "    </tr>\n",
       "    <tr>\n",
       "      <th>61-64세</th>\n",
       "      <td>18175</td>\n",
       "    </tr>\n",
       "    <tr>\n",
       "      <th>65세이상</th>\n",
       "      <td>31072</td>\n",
       "    </tr>\n",
       "    <tr>\n",
       "      <th>불명</th>\n",
       "      <td>3470</td>\n",
       "    </tr>\n",
       "  </tbody>\n",
       "</table>\n",
       "</div>"
      ],
      "text/plain": [
       "         사고건수\n",
       "가해자연령층       \n",
       "20세이하    7099\n",
       "21-30세  29775\n",
       "31-40세  31606\n",
       "41-50세  38036\n",
       "51-60세  50421\n",
       "61-64세  18175\n",
       "65세이상   31072\n",
       "불명       3470"
      ]
     },
     "execution_count": 60,
     "metadata": {},
     "output_type": "execute_result"
    }
   ],
   "source": [
    "df_acc_20_vis = df_accidents_by_age_20['사고건수'].to_frame()\n",
    "df_acc_20_vis"
   ]
  },
  {
   "cell_type": "markdown",
   "metadata": {},
   "source": [
    "# 1. 연령별 교통사고 빈도 및 확률"
   ]
  },
  {
   "cell_type": "code",
   "execution_count": 46,
   "metadata": {},
   "outputs": [
    {
     "data": {
      "text/plain": [
       "10대       2.699588\n",
       "20대       0.597907\n",
       "30대       0.510434\n",
       "40대       0.561262\n",
       "50대       0.775979\n",
       "60대 이상    0.844511\n",
       "dtype: float64"
      ]
     },
     "execution_count": 46,
     "metadata": {},
     "output_type": "execute_result"
    }
   ],
   "source": [
    "# 연령대 별 사고율 계산\n",
    "sr_accident_rate_17 = df_accidents_by_age_17['사고건수'] / age_group_sum17['합계'] * 100\n",
    "sr_accident_rate_20 = df_accidents_by_age_20['사고건수'] / age_group_sum20['합계'] * 100\n",
    "\n",
    "sr_accident_rate_17"
   ]
  },
  {
   "cell_type": "code",
   "execution_count": 47,
   "metadata": {},
   "outputs": [
    {
     "data": {
      "text/plain": [
       "10대       2.488773\n",
       "20대       0.608348\n",
       "30대       0.497630\n",
       "40대       0.499312\n",
       "50대       0.683319\n",
       "60대 이상    0.740600\n",
       "dtype: float64"
      ]
     },
     "execution_count": 47,
     "metadata": {},
     "output_type": "execute_result"
    }
   ],
   "source": [
    "sr_accident_rate_20"
   ]
  },
  {
   "cell_type": "markdown",
   "metadata": {},
   "source": []
  },
  {
   "cell_type": "code",
   "execution_count": 48,
   "metadata": {},
   "outputs": [
    {
     "data": {
      "image/png": "[encoded data removed]",
      "text/plain": [
       "<Figure size 1000x600 with 1 Axes>"
      ]
     },
     "metadata": {},
     "output_type": "display_data"
    }
   ],
   "source": [
    "# 데이터프레임으로 변환\n",
    "df = pd.DataFrame({'2017': sr_accident_rate_17, '2020': sr_accident_rate_20})\n",
    "\n",
    "df['Min'] = df.min(axis=1)\n",
    "df['Max'] = df.max(axis=1)\n",
    "\n",
    "# 막대 그래프 생성\n",
    "fig, ax = plt.subplots(figsize=(10, 6))\n",
    "\n",
    "# 작은 값을 먼저 그리기\n",
    "ax.bar(df.index, df['Min'], label='Min', color='skyblue')\n",
    "\n",
    "# 큰 값을 그리기 (작은 값을 기준으로 쌓기)\n",
    "ax.bar(df.index, df['Max'] - df['Min'], bottom=df['Min'], label='Max', color='lightgreen')\n",
    "\n",
    "# 제목과 축 라벨 추가\n",
    "plt.title('연령대별 교통사고 발생률')\n",
    "plt.xlabel('연령대')\n",
    "plt.ylabel('발생률(%p)')\n",
    "\n",
    "# 범례 추가\n",
    "plt.legend(['2017', '2020'])\n",
    "\n",
    "# 그래프 표시\n",
    "plt.tight_layout()\n",
    "plt.show()\n"
   ]
  },
  {
   "cell_type": "code",
   "execution_count": null,
   "metadata": {},
   "outputs": [],
   "source": []
  },
  {
   "cell_type": "code",
   "execution_count": null,
   "metadata": {},
   "outputs": [],
   "source": []
  }
 ],
 "metadata": {
  "kernelspec": {
   "display_name": "itkorea",
   "language": "python",
   "name": "python3"
  },
  "language_info": {
   "codemirror_mode": {
    "name": "ipython",
    "version": 3
   },
   "file_extension": ".py",
   "mimetype": "text/x-python",
   "name": "python",
   "nbconvert_exporter": "python",
   "pygments_lexer": "ipython3",
   "version": "3.8.19"
  }
 },
 "nbformat": 4,
 "nbformat_minor": 2
}
